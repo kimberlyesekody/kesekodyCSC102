{
 "cells": [
  {
   "cell_type": "code",
   "execution_count": null,
   "id": "f0ccaeaa",
   "metadata": {},
   "outputs": [],
   "source": [
    "class Oranges():\n",
    "    def cost(self, price):\n",
    "        \n",
    "        print(\" The price of each orange is 100 naira\")"
   ]
  },
  {
   "cell_type": "code",
   "execution_count": null,
   "id": "71f996f9",
   "metadata": {},
   "outputs": [],
   "source": [
    "class formula()\n",
    " def AOT():\n",
    "    height = int(input(\"height\"))\n",
    "    base1 = int(input (\"base1\"))\n",
    "    base2 = int(input(\"base2\")) \n",
    "    \n",
    "    print(\"The formula for Area of Trapezium =mheight/2*(base1+base2) \")\n",
    "    solution = height/2*(base1+base2)\n",
    "    \n",
    "    print(\"Area of Trapezium =\", solution)\n",
    "    \n",
    "    def AOR():\n",
    "        diagonal1 = int(input(\"diagonal1\"))\n",
    "        diagonal2 = int(input(\"diagonal2\"))\n",
    "        print(\"\")"
   ]
  }
 ],
 "metadata": {
  "kernelspec": {
   "display_name": "Python 3 (ipykernel)",
   "language": "python",
   "name": "python3"
  },
  "language_info": {
   "codemirror_mode": {
    "name": "ipython",
    "version": 3
   },
   "file_extension": ".py",
   "mimetype": "text/x-python",
   "name": "python",
   "nbconvert_exporter": "python",
   "pygments_lexer": "ipython3",
   "version": "3.10.9"
  }
 },
 "nbformat": 4,
 "nbformat_minor": 5
}
