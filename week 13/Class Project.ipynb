{
 "cells": [
  {
   "cell_type": "code",
   "execution_count": 21,
   "id": "0dfc7a4b",
   "metadata": {
    "scrolled": true
   },
   "outputs": [
    {
     "name": "stdout",
     "output_type": "stream",
     "text": [
      "Enter your namehj\n",
      "Enter your Matrice No67890\n",
      "Enter your departmentcsc\n",
      "Enter your level100\n",
      "input yes to input details for another student, input no to end the programno\n",
      "thank you for using this program\n",
      "file has been successfully created\n"
     ]
    }
   ],
   "source": [
    "import pandas as pd\n",
    "class sims():\n",
    "    def __init__(self):\n",
    "        self.lystnameinp = []\n",
    "        self.lystmatricinp = []\n",
    "        self.lystdepartmentinp = []\n",
    "        self.lystlevelinp = []\n",
    "        \n",
    "    def folder(self):\n",
    "        folder = {}\n",
    "        folder['Matric.Number'] = self.lystmatricinp\n",
    "        folder['Student Name'] = self.lystnameinp\n",
    "        folder['Department'] = self.lystdepartmentinp\n",
    "        folder['Level'] = self.lystlevelinp\n",
    "            \n",
    "        df = pd.DataFrame(folder)\n",
    "        df.to_csv('SIMS.csv', index_label= 'No', na_rep = 'N/A')\n",
    "        print('file has been successfully created')\n",
    "            \n",
    "    def Request(self):\n",
    "            global request\n",
    "            request = input('input yes to input details for another student, input no to end the program')\n",
    "            if request.lower() == 'no':\n",
    "                print('thank you for using this program')\n",
    "                return False\n",
    "            elif request.lower() == 'yes':\n",
    "                return True\n",
    "            else:\n",
    "                print('please inpt yes or no')\n",
    "                return self.Request()\n",
    "    def inps(self):\n",
    "                while True:\n",
    "                    nameinp = input('Enter your name')\n",
    "                    self.lystnameinp.append(nameinp)\n",
    "                    matricinp = input('Enter your Matrice No')\n",
    "                    self.lystmatricinp.append(matricinp)\n",
    "                    departmentinp = input('Enter your department')\n",
    "                    self.lystdepartmentinp.append(departmentinp) \n",
    "                    levelinp = input('Enter your level')\n",
    "                    self.lystlevelinp.append(levelinp)\n",
    "                        \n",
    "                    if not self.Request():\n",
    "                        return False\n",
    "                        \n",
    "                        \n",
    "                        \n",
    "code = sims()               \n",
    "code.inps()\n",
    "code.folder()"
   ]
  },
  {
   "cell_type": "code",
   "execution_count": 40,
   "id": "ecb12ca9",
   "metadata": {},
   "outputs": [],
   "source": [
    "import pandas as pd\n",
    "companies = {'Company':['Enron', 'Anderson', 'GK Jones', 'Mica' , 'Dune'],\n",
    "            'Date Founded':['1987', '1936', '2001', '1996', '2008'],\n",
    "            'Company Shares':['1000000', '1500000', '3000000', '250000', '800000'],\n",
    "            'Company Loans':['200000', '500000', '1500000', '50000', '300000'],\n",
    "            'Over-Leverage':['0.8', '0.67', '0.5', '0.8', '0.625']}\n",
    "\n",
    "df = pd.DataFrame(companies)\n",
    "\n",
    "df.to_excel ('company_details.xlsx', index = False)\n",
    "\n",
    "\n",
    "        "
   ]
  },
  {
   "cell_type": "code",
   "execution_count": null,
   "id": "e2272432",
   "metadata": {},
   "outputs": [],
   "source": []
  }
 ],
 "metadata": {
  "kernelspec": {
   "display_name": "Python 3 (ipykernel)",
   "language": "python",
   "name": "python3"
  },
  "language_info": {
   "codemirror_mode": {
    "name": "ipython",
    "version": 3
   },
   "file_extension": ".py",
   "mimetype": "text/x-python",
   "name": "python",
   "nbconvert_exporter": "python",
   "pygments_lexer": "ipython3",
   "version": "3.10.9"
  }
 },
 "nbformat": 4,
 "nbformat_minor": 5
}
